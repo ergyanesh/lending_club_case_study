{
 "cells": [
  {
   "cell_type": "markdown",
   "id": "e0fc85dc",
   "metadata": {},
   "source": [
    "## Project Overview\n",
    "A consumer finance company lends loan of different kinds to its urban clients. It has the data of its current and past clients, including those who have defaulted, and it wants to minimize credit loss by identifying the potential defaulters with the use of the available data.\n",
    "\n",
    "\n",
    "\n",
    "## Objective\n",
    "Using Exploratory Data Analysis (EDA) to identify the variable(s) which can indicate whether a borrower is a \"Risky Customer\" or not."
   ]
  },
  {
   "cell_type": "markdown",
   "id": "2f4a413e",
   "metadata": {},
   "source": [
    "## Macro-Steps Involved\n",
    "\n",
    "\n",
    "1. Importing Required Libraries\n",
    "2. Analyzing the Data\n",
    "3. Data Cleaning\n",
    "4. Univariate Analysis\n",
    "5. Bivariate Analysis\n",
    "6. Interpretation of the EDA"
   ]
  },
  {
   "cell_type": "markdown",
   "id": "7c763e19",
   "metadata": {},
   "source": [
    "## Importing Required Libraries"
   ]
  },
  {
   "cell_type": "code",
   "execution_count": 1,
   "id": "6f7e7189",
   "metadata": {},
   "outputs": [],
   "source": [
    "import pandas as pd\n",
    "import numpy as np\n",
    "import matplotlib.pyplot as plt\n",
    "import seaborn as sns\n",
    "import warnings\n",
    "warnings.filterwarnings(\"ignore\")"
   ]
  },
  {
   "cell_type": "markdown",
   "id": "76716faf",
   "metadata": {},
   "source": [
    "## Analyzing the Data"
   ]
  },
  {
   "cell_type": "code",
   "execution_count": 2,
   "id": "cf2d41a3",
   "metadata": {},
   "outputs": [],
   "source": [
    "# A. Loading the loan data\n",
    "loan = pd.read_csv(\"loan.csv\")"
   ]
  },
  {
   "cell_type": "code",
   "execution_count": 3,
   "id": "78f9e225",
   "metadata": {},
   "outputs": [
    {
     "data": {
      "text/html": [
       "<div>\n",
       "<style scoped>\n",
       "    .dataframe tbody tr th:only-of-type {\n",
       "        vertical-align: middle;\n",
       "    }\n",
       "\n",
       "    .dataframe tbody tr th {\n",
       "        vertical-align: top;\n",
       "    }\n",
       "\n",
       "    .dataframe thead th {\n",
       "        text-align: right;\n",
       "    }\n",
       "</style>\n",
       "<table border=\"1\" class=\"dataframe\">\n",
       "  <thead>\n",
       "    <tr style=\"text-align: right;\">\n",
       "      <th></th>\n",
       "      <th>id</th>\n",
       "      <th>member_id</th>\n",
       "      <th>loan_amnt</th>\n",
       "      <th>funded_amnt</th>\n",
       "      <th>funded_amnt_inv</th>\n",
       "      <th>term</th>\n",
       "      <th>int_rate</th>\n",
       "      <th>installment</th>\n",
       "      <th>grade</th>\n",
       "      <th>sub_grade</th>\n",
       "      <th>...</th>\n",
       "      <th>num_tl_90g_dpd_24m</th>\n",
       "      <th>num_tl_op_past_12m</th>\n",
       "      <th>pct_tl_nvr_dlq</th>\n",
       "      <th>percent_bc_gt_75</th>\n",
       "      <th>pub_rec_bankruptcies</th>\n",
       "      <th>tax_liens</th>\n",
       "      <th>tot_hi_cred_lim</th>\n",
       "      <th>total_bal_ex_mort</th>\n",
       "      <th>total_bc_limit</th>\n",
       "      <th>total_il_high_credit_limit</th>\n",
       "    </tr>\n",
       "  </thead>\n",
       "  <tbody>\n",
       "    <tr>\n",
       "      <th>0</th>\n",
       "      <td>1077501</td>\n",
       "      <td>1296599</td>\n",
       "      <td>5000</td>\n",
       "      <td>5000</td>\n",
       "      <td>4975.0</td>\n",
       "      <td>36 months</td>\n",
       "      <td>10.65%</td>\n",
       "      <td>162.87</td>\n",
       "      <td>B</td>\n",
       "      <td>B2</td>\n",
       "      <td>...</td>\n",
       "      <td>NaN</td>\n",
       "      <td>NaN</td>\n",
       "      <td>NaN</td>\n",
       "      <td>NaN</td>\n",
       "      <td>0.0</td>\n",
       "      <td>0.0</td>\n",
       "      <td>NaN</td>\n",
       "      <td>NaN</td>\n",
       "      <td>NaN</td>\n",
       "      <td>NaN</td>\n",
       "    </tr>\n",
       "    <tr>\n",
       "      <th>1</th>\n",
       "      <td>1077430</td>\n",
       "      <td>1314167</td>\n",
       "      <td>2500</td>\n",
       "      <td>2500</td>\n",
       "      <td>2500.0</td>\n",
       "      <td>60 months</td>\n",
       "      <td>15.27%</td>\n",
       "      <td>59.83</td>\n",
       "      <td>C</td>\n",
       "      <td>C4</td>\n",
       "      <td>...</td>\n",
       "      <td>NaN</td>\n",
       "      <td>NaN</td>\n",
       "      <td>NaN</td>\n",
       "      <td>NaN</td>\n",
       "      <td>0.0</td>\n",
       "      <td>0.0</td>\n",
       "      <td>NaN</td>\n",
       "      <td>NaN</td>\n",
       "      <td>NaN</td>\n",
       "      <td>NaN</td>\n",
       "    </tr>\n",
       "    <tr>\n",
       "      <th>2</th>\n",
       "      <td>1077175</td>\n",
       "      <td>1313524</td>\n",
       "      <td>2400</td>\n",
       "      <td>2400</td>\n",
       "      <td>2400.0</td>\n",
       "      <td>36 months</td>\n",
       "      <td>15.96%</td>\n",
       "      <td>84.33</td>\n",
       "      <td>C</td>\n",
       "      <td>C5</td>\n",
       "      <td>...</td>\n",
       "      <td>NaN</td>\n",
       "      <td>NaN</td>\n",
       "      <td>NaN</td>\n",
       "      <td>NaN</td>\n",
       "      <td>0.0</td>\n",
       "      <td>0.0</td>\n",
       "      <td>NaN</td>\n",
       "      <td>NaN</td>\n",
       "      <td>NaN</td>\n",
       "      <td>NaN</td>\n",
       "    </tr>\n",
       "    <tr>\n",
       "      <th>3</th>\n",
       "      <td>1076863</td>\n",
       "      <td>1277178</td>\n",
       "      <td>10000</td>\n",
       "      <td>10000</td>\n",
       "      <td>10000.0</td>\n",
       "      <td>36 months</td>\n",
       "      <td>13.49%</td>\n",
       "      <td>339.31</td>\n",
       "      <td>C</td>\n",
       "      <td>C1</td>\n",
       "      <td>...</td>\n",
       "      <td>NaN</td>\n",
       "      <td>NaN</td>\n",
       "      <td>NaN</td>\n",
       "      <td>NaN</td>\n",
       "      <td>0.0</td>\n",
       "      <td>0.0</td>\n",
       "      <td>NaN</td>\n",
       "      <td>NaN</td>\n",
       "      <td>NaN</td>\n",
       "      <td>NaN</td>\n",
       "    </tr>\n",
       "    <tr>\n",
       "      <th>4</th>\n",
       "      <td>1075358</td>\n",
       "      <td>1311748</td>\n",
       "      <td>3000</td>\n",
       "      <td>3000</td>\n",
       "      <td>3000.0</td>\n",
       "      <td>60 months</td>\n",
       "      <td>12.69%</td>\n",
       "      <td>67.79</td>\n",
       "      <td>B</td>\n",
       "      <td>B5</td>\n",
       "      <td>...</td>\n",
       "      <td>NaN</td>\n",
       "      <td>NaN</td>\n",
       "      <td>NaN</td>\n",
       "      <td>NaN</td>\n",
       "      <td>0.0</td>\n",
       "      <td>0.0</td>\n",
       "      <td>NaN</td>\n",
       "      <td>NaN</td>\n",
       "      <td>NaN</td>\n",
       "      <td>NaN</td>\n",
       "    </tr>\n",
       "  </tbody>\n",
       "</table>\n",
       "<p>5 rows × 111 columns</p>\n",
       "</div>"
      ],
      "text/plain": [
       "        id  member_id  loan_amnt  funded_amnt  funded_amnt_inv        term  \\\n",
       "0  1077501    1296599       5000         5000           4975.0   36 months   \n",
       "1  1077430    1314167       2500         2500           2500.0   60 months   \n",
       "2  1077175    1313524       2400         2400           2400.0   36 months   \n",
       "3  1076863    1277178      10000        10000          10000.0   36 months   \n",
       "4  1075358    1311748       3000         3000           3000.0   60 months   \n",
       "\n",
       "  int_rate  installment grade sub_grade  ... num_tl_90g_dpd_24m  \\\n",
       "0   10.65%       162.87     B        B2  ...                NaN   \n",
       "1   15.27%        59.83     C        C4  ...                NaN   \n",
       "2   15.96%        84.33     C        C5  ...                NaN   \n",
       "3   13.49%       339.31     C        C1  ...                NaN   \n",
       "4   12.69%        67.79     B        B5  ...                NaN   \n",
       "\n",
       "  num_tl_op_past_12m pct_tl_nvr_dlq  percent_bc_gt_75 pub_rec_bankruptcies  \\\n",
       "0                NaN            NaN               NaN                  0.0   \n",
       "1                NaN            NaN               NaN                  0.0   \n",
       "2                NaN            NaN               NaN                  0.0   \n",
       "3                NaN            NaN               NaN                  0.0   \n",
       "4                NaN            NaN               NaN                  0.0   \n",
       "\n",
       "  tax_liens tot_hi_cred_lim total_bal_ex_mort total_bc_limit  \\\n",
       "0       0.0             NaN               NaN            NaN   \n",
       "1       0.0             NaN               NaN            NaN   \n",
       "2       0.0             NaN               NaN            NaN   \n",
       "3       0.0             NaN               NaN            NaN   \n",
       "4       0.0             NaN               NaN            NaN   \n",
       "\n",
       "  total_il_high_credit_limit  \n",
       "0                        NaN  \n",
       "1                        NaN  \n",
       "2                        NaN  \n",
       "3                        NaN  \n",
       "4                        NaN  \n",
       "\n",
       "[5 rows x 111 columns]"
      ]
     },
     "execution_count": 3,
     "metadata": {},
     "output_type": "execute_result"
    }
   ],
   "source": [
    "# B. Understanding the data by looking at its top rows\n",
    "\n",
    "loan.head()"
   ]
  },
  {
   "cell_type": "code",
   "execution_count": 4,
   "id": "dd5152f9",
   "metadata": {},
   "outputs": [
    {
     "name": "stdout",
     "output_type": "stream",
     "text": [
      "Shape of the data:  (39717, 111)\n",
      "\n",
      "\n",
      "<class 'pandas.core.frame.DataFrame'>\n",
      "RangeIndex: 39717 entries, 0 to 39716\n",
      "Columns: 111 entries, id to total_il_high_credit_limit\n",
      "dtypes: float64(74), int64(13), object(24)\n",
      "memory usage: 33.6+ MB\n",
      "None\n"
     ]
    }
   ],
   "source": [
    "# C. Brief information of the loan data\n",
    "\n",
    "\n",
    "print(\"Shape of the data: \",loan.shape)\n",
    "print(\"\\n\")\n",
    "print(loan.info())"
   ]
  },
  {
   "cell_type": "code",
   "execution_count": 5,
   "id": "e6c5e1e3",
   "metadata": {},
   "outputs": [
    {
     "data": {
      "text/plain": [
       "id                                0\n",
       "member_id                         0\n",
       "loan_amnt                         0\n",
       "funded_amnt                       0\n",
       "funded_amnt_inv                   0\n",
       "                              ...  \n",
       "tax_liens                        39\n",
       "tot_hi_cred_lim               39717\n",
       "total_bal_ex_mort             39717\n",
       "total_bc_limit                39717\n",
       "total_il_high_credit_limit    39717\n",
       "Length: 111, dtype: int64"
      ]
     },
     "execution_count": 5,
     "metadata": {},
     "output_type": "execute_result"
    }
   ],
   "source": [
    "# D. Checking number of missing cells in each column\n",
    "\n",
    "loan.isna().sum()"
   ]
  },
  {
   "cell_type": "markdown",
   "id": "67a3d6b0",
   "metadata": {},
   "source": [
    "### Note:\n",
    "There are many columns which are null, so we need to remove those columns"
   ]
  },
  {
   "cell_type": "markdown",
   "id": "68f07670",
   "metadata": {},
   "source": [
    "##  Data Cleaning"
   ]
  },
  {
   "cell_type": "code",
   "execution_count": 6,
   "id": "72f54821",
   "metadata": {},
   "outputs": [
    {
     "data": {
      "text/plain": [
       "next_pymnt_d                  97.0\n",
       "mths_since_last_record        93.0\n",
       "mths_since_last_delinq        65.0\n",
       "desc                          33.0\n",
       "emp_title                      6.0\n",
       "emp_length                     3.0\n",
       "pub_rec_bankruptcies           2.0\n",
       "last_pymnt_d                   0.0\n",
       "chargeoff_within_12_mths       0.0\n",
       "collections_12_mths_ex_med     0.0\n",
       "revol_util                     0.0\n",
       "tax_liens                      0.0\n",
       "title                          0.0\n",
       "last_credit_pull_d             0.0\n",
       "home_ownership                 0.0\n",
       "int_rate                       0.0\n",
       "out_prncp_inv                  0.0\n",
       "total_pymnt                    0.0\n",
       "total_pymnt_inv                0.0\n",
       "total_rec_prncp                0.0\n",
       "total_rec_int                  0.0\n",
       "total_rec_late_fee             0.0\n",
       "recoveries                     0.0\n",
       "collection_recovery_fee        0.0\n",
       "term                           0.0\n",
       "last_pymnt_amnt                0.0\n",
       "initial_list_status            0.0\n",
       "funded_amnt_inv                0.0\n",
       "policy_code                    0.0\n",
       "application_type               0.0\n",
       "acc_now_delinq                 0.0\n",
       "funded_amnt                    0.0\n",
       "delinq_amnt                    0.0\n",
       "loan_amnt                      0.0\n",
       "out_prncp                      0.0\n",
       "total_acc                      0.0\n",
       "annual_inc                     0.0\n",
       "addr_state                     0.0\n",
       "verification_status            0.0\n",
       "issue_d                        0.0\n",
       "loan_status                    0.0\n",
       "pymnt_plan                     0.0\n",
       "url                            0.0\n",
       "sub_grade                      0.0\n",
       "purpose                        0.0\n",
       "zip_code                       0.0\n",
       "dti                            0.0\n",
       "installment                    0.0\n",
       "delinq_2yrs                    0.0\n",
       "earliest_cr_line               0.0\n",
       "inq_last_6mths                 0.0\n",
       "member_id                      0.0\n",
       "grade                          0.0\n",
       "open_acc                       0.0\n",
       "pub_rec                        0.0\n",
       "revol_bal                      0.0\n",
       "id                             0.0\n",
       "dtype: float64"
      ]
     },
     "execution_count": 6,
     "metadata": {},
     "output_type": "execute_result"
    }
   ],
   "source": [
    "# A. Removing columns having no data at all\n",
    "\n",
    "loan.dropna(axis=1, how=\"all\", inplace = True)\n",
    "\n",
    "# B. Percentage of missing values in each columns after removing columns with no values\n",
    "round((loan.isnull().sum()*100/len(loan)).sort_values(ascending=False))"
   ]
  },
  {
   "cell_type": "markdown",
   "id": "60d6f23d",
   "metadata": {},
   "source": [
    "### Note:\n",
    "As we can see that there are significant number of missing values in three columns, so they will not add any value to our analysis, hence we need to remove these columns"
   ]
  },
  {
   "cell_type": "code",
   "execution_count": 7,
   "id": "986af0c2",
   "metadata": {},
   "outputs": [],
   "source": [
    "# C. Removing columns that have significant number of missing values\n",
    "\n",
    "missing_values_columns = [\"next_pymnt_d\", \"mths_since_last_record\", \"mths_since_last_delinq\"]\n",
    "loan.drop(missing_values_columns, axis=1, inplace=True)"
   ]
  },
  {
   "cell_type": "code",
   "execution_count": 8,
   "id": "fbf8370b",
   "metadata": {},
   "outputs": [
    {
     "name": "stdout",
     "output_type": "stream",
     "text": [
      "<class 'pandas.core.frame.DataFrame'>\n",
      "RangeIndex: 39717 entries, 0 to 39716\n",
      "Data columns (total 54 columns):\n",
      " #   Column                      Non-Null Count  Dtype  \n",
      "---  ------                      --------------  -----  \n",
      " 0   id                          39717 non-null  int64  \n",
      " 1   member_id                   39717 non-null  int64  \n",
      " 2   loan_amnt                   39717 non-null  int64  \n",
      " 3   funded_amnt                 39717 non-null  int64  \n",
      " 4   funded_amnt_inv             39717 non-null  float64\n",
      " 5   term                        39717 non-null  object \n",
      " 6   int_rate                    39717 non-null  object \n",
      " 7   installment                 39717 non-null  float64\n",
      " 8   grade                       39717 non-null  object \n",
      " 9   sub_grade                   39717 non-null  object \n",
      " 10  emp_title                   37258 non-null  object \n",
      " 11  emp_length                  38642 non-null  object \n",
      " 12  home_ownership              39717 non-null  object \n",
      " 13  annual_inc                  39717 non-null  float64\n",
      " 14  verification_status         39717 non-null  object \n",
      " 15  issue_d                     39717 non-null  object \n",
      " 16  loan_status                 39717 non-null  object \n",
      " 17  pymnt_plan                  39717 non-null  object \n",
      " 18  url                         39717 non-null  object \n",
      " 19  desc                        26777 non-null  object \n",
      " 20  purpose                     39717 non-null  object \n",
      " 21  title                       39706 non-null  object \n",
      " 22  zip_code                    39717 non-null  object \n",
      " 23  addr_state                  39717 non-null  object \n",
      " 24  dti                         39717 non-null  float64\n",
      " 25  delinq_2yrs                 39717 non-null  int64  \n",
      " 26  earliest_cr_line            39717 non-null  object \n",
      " 27  inq_last_6mths              39717 non-null  int64  \n",
      " 28  open_acc                    39717 non-null  int64  \n",
      " 29  pub_rec                     39717 non-null  int64  \n",
      " 30  revol_bal                   39717 non-null  int64  \n",
      " 31  revol_util                  39667 non-null  object \n",
      " 32  total_acc                   39717 non-null  int64  \n",
      " 33  initial_list_status         39717 non-null  object \n",
      " 34  out_prncp                   39717 non-null  float64\n",
      " 35  out_prncp_inv               39717 non-null  float64\n",
      " 36  total_pymnt                 39717 non-null  float64\n",
      " 37  total_pymnt_inv             39717 non-null  float64\n",
      " 38  total_rec_prncp             39717 non-null  float64\n",
      " 39  total_rec_int               39717 non-null  float64\n",
      " 40  total_rec_late_fee          39717 non-null  float64\n",
      " 41  recoveries                  39717 non-null  float64\n",
      " 42  collection_recovery_fee     39717 non-null  float64\n",
      " 43  last_pymnt_d                39646 non-null  object \n",
      " 44  last_pymnt_amnt             39717 non-null  float64\n",
      " 45  last_credit_pull_d          39715 non-null  object \n",
      " 46  collections_12_mths_ex_med  39661 non-null  float64\n",
      " 47  policy_code                 39717 non-null  int64  \n",
      " 48  application_type            39717 non-null  object \n",
      " 49  acc_now_delinq              39717 non-null  int64  \n",
      " 50  chargeoff_within_12_mths    39661 non-null  float64\n",
      " 51  delinq_amnt                 39717 non-null  int64  \n",
      " 52  pub_rec_bankruptcies        39020 non-null  float64\n",
      " 53  tax_liens                   39678 non-null  float64\n",
      "dtypes: float64(18), int64(13), object(23)\n",
      "memory usage: 16.4+ MB\n"
     ]
    }
   ],
   "source": [
    "# D. Checking the info of remaining dataset\n",
    "loan.info()"
   ]
  },
  {
   "cell_type": "markdown",
   "id": "2e9002cf",
   "metadata": {},
   "source": [
    "### Note:\n",
    "1) Now, we have 54 columns but not all of them is required for our analysis, so we need to find the irrelevant columns with the help of data dictionary provided, and then remove them from the dataset.\n",
    "\n",
    "2) We also need to remove those records from the dataset which are labelled as \"Current\" because our aim is to identify the variable which are strong indicators of default."
   ]
  },
  {
   "cell_type": "code",
   "execution_count": 9,
   "id": "fa71e837",
   "metadata": {},
   "outputs": [],
   "source": [
    "# E. Removing records of borrowers whose status is \"Current\"\n",
    "\n",
    "loan = loan[(loan[\"loan_status\"] !='Current')]"
   ]
  },
  {
   "cell_type": "code",
   "execution_count": 10,
   "id": "23b776d0",
   "metadata": {},
   "outputs": [],
   "source": [
    "# F. Columns that contains only one unique value\n",
    "\n",
    "single_value_columns = loan.columns[(loan.nunique()==1)]\n",
    "\n",
    "\n",
    "# G. Removing above columns as their value remains same irrespective of change in any other attributs\n",
    "\n",
    "loan.drop(single_value_columns, axis=1, inplace=True)"
   ]
  },
  {
   "cell_type": "markdown",
   "id": "cf21066a",
   "metadata": {},
   "source": [
    "### Note\n",
    "\n",
    "We can see that the emp_title contains 28027 unique values out of a total 38577 records, so this categorical variable will not be contributing much to our analysis, so it should be removed"
   ]
  },
  {
   "cell_type": "code",
   "execution_count": 11,
   "id": "277fc24d",
   "metadata": {},
   "outputs": [],
   "source": [
    "# H. Irrelevant columns that is not likely to impact the analysis  \n",
    "\n",
    "irrelevant_columns = ['emp_title', 'addr_state', 'desc', 'id','member_id', 'title', 'url', 'zip_code', 'last_pymnt_d', 'last_credit_pull_d',  ]\n",
    "\n",
    "\n",
    "# I. Removing above columns from the dataset\n",
    "loan.drop(irrelevant_columns, axis=1, inplace=True)"
   ]
  },
  {
   "cell_type": "code",
   "execution_count": 12,
   "id": "47d6e5ab",
   "metadata": {},
   "outputs": [],
   "source": [
    "# J. Checking duplicate rows in the remaining dataset\n",
    "\n",
    "duplicate_rows = loan[(loan.duplicated())] # No duplicate records was found in the dataset"
   ]
  },
  {
   "cell_type": "markdown",
   "id": "abede695",
   "metadata": {},
   "source": [
    "## Standardizing Values"
   ]
  },
  {
   "cell_type": "code",
   "execution_count": 13,
   "id": "0966bb1b",
   "metadata": {
    "scrolled": true
   },
   "outputs": [
    {
     "data": {
      "text/plain": [
       "Index(['term', 'int_rate', 'grade', 'sub_grade', 'emp_length',\n",
       "       'home_ownership', 'verification_status', 'issue_d', 'loan_status',\n",
       "       'purpose', 'earliest_cr_line', 'revol_util'],\n",
       "      dtype='object')"
      ]
     },
     "execution_count": 13,
     "metadata": {},
     "output_type": "execute_result"
    }
   ],
   "source": [
    "# A. Checking for columns which are of object data type, and let's see if they can be converted to numeric one if needed\n",
    "\n",
    "object_dtype = loan.select_dtypes(include=['object'])\n",
    "object_dtype.columns"
   ]
  },
  {
   "cell_type": "code",
   "execution_count": 14,
   "id": "98208c6d",
   "metadata": {},
   "outputs": [],
   "source": [
    "# B. Converting the column \"term\" into \"int\" data type\n",
    "\n",
    "loan['term'] = loan['term'].map(lambda x: x.strip(' months')).astype(\"int\")"
   ]
  },
  {
   "cell_type": "code",
   "execution_count": 15,
   "id": "82e67d3e",
   "metadata": {},
   "outputs": [],
   "source": [
    "# C. Converting the column \"int_rate\" into float data type\n",
    "\n",
    "loan['int_rate'] = loan['int_rate'].map(lambda x: x.strip('%')).astype(\"float\")"
   ]
  },
  {
   "cell_type": "markdown",
   "id": "7fd8ea8c",
   "metadata": {},
   "source": [
    "### Note:\n",
    "1) As evident, two variables - \"issue_d\" and \"earliest_cr_line\" are objects, whereas these must be in the datatime format to extract month and year from them.\n",
    "2) Also, \"revol_untill\" should be float, we need to convert this from object to float"
   ]
  },
  {
   "cell_type": "code",
   "execution_count": 16,
   "id": "d82d1b3e",
   "metadata": {},
   "outputs": [],
   "source": [
    "# D. Conversion of \"issue_d\" and \"earliest_cr_line\" from object to datatime\n",
    "\n",
    "loan['issue_d'] =  pd.to_datetime(loan['issue_d'], format='%b-%y')\n",
    "loan['earliest_cr_line'] =  pd.to_datetime(loan['earliest_cr_line'], format='%b-%y')"
   ]
  },
  {
   "cell_type": "code",
   "execution_count": 17,
   "id": "e425d63f",
   "metadata": {},
   "outputs": [],
   "source": [
    "# E. Converting \"revol_util\" into float by removing percentage symbol\n",
    "\n",
    "loan['revol_util'] = loan['revol_util'].str.strip('%').astype(\"float\")"
   ]
  },
  {
   "cell_type": "code",
   "execution_count": 18,
   "id": "fda55657",
   "metadata": {},
   "outputs": [
    {
     "data": {
      "image/png": "[encoded data removed]",
      "text/plain": [
       "<Figure size 864x432 with 1 Axes>"
      ]
     },
     "metadata": {
      "needs_background": "light"
     },
     "output_type": "display_data"
    }
   ],
   "source": [
    "# F. Outlier Detection\n",
    "\n",
    "fig, ax = plt.subplots(figsize=(12,6))\n",
    "plt.ticklabel_format(style='plain')\n",
    "ax = sns.boxplot(data= loan, x=\"annual_inc\")\n",
    "ax.set(title=\"Annual Income of Customers\", xlabel=None);"
   ]
  },
  {
   "cell_type": "code",
   "execution_count": 19,
   "id": "de173ae7",
   "metadata": {},
   "outputs": [
    {
     "name": "stdout",
     "output_type": "stream",
     "text": [
      "Records left after removing outliers:  21936\n",
      "\n",
      "Percentage of records left:  57%\n"
     ]
    }
   ],
   "source": [
    "# G. Condition for data to be considered as outliers, when it is more than 1.5*IQR\n",
    "\n",
    "Q3 = loan[\"annual_inc\"].quantile(0.75) \n",
    "Q1 = loan[\"annual_inc\"].quantile(0.25)\n",
    "\n",
    "IQR = Q3-Q1\n",
    "\n",
    "\n",
    "# Filtering the outiers out\n",
    "\n",
    "loan_outliers_removed = loan[(loan[\"annual_inc\"]<= 1.5*IQR)]\n",
    "\n",
    "# Records left after removing outliers\n",
    "print(\"Records left after removing outliers: \",len(loan_outliers_removed))\n",
    "\n",
    "# Percentage of data left after removing outliers\n",
    "print(\"\\nPercentage of records left: \", str(round((len(loan_outliers_removed)/len(loan))*100))+\"%\")"
   ]
  },
  {
   "cell_type": "markdown",
   "id": "0c52094a",
   "metadata": {},
   "source": [
    "### Note:\n",
    "Upon checking the data of every column for outliers, it was noticed that it was not likely due to error in data collection, as the number of outliers is quite high which significantly contributes to the data, so outlier treatment is not needed, as it will remove quite a large percentage of data from the dataset."
   ]
  },
  {
   "cell_type": "code",
   "execution_count": 20,
   "id": "7edfa34e",
   "metadata": {},
   "outputs": [
    {
     "data": {
      "text/plain": [
       "term                           2\n",
       "loan_status                    2\n",
       "pub_rec_bankruptcies           3\n",
       "verification_status            3\n",
       "pub_rec                        5\n",
       "home_ownership                 5\n",
       "grade                          7\n",
       "inq_last_6mths                 9\n",
       "delinq_2yrs                   11\n",
       "emp_length                    11\n",
       "purpose                       14\n",
       "sub_grade                     35\n",
       "open_acc                      40\n",
       "issue_d                       55\n",
       "total_acc                     82\n",
       "int_rate                     370\n",
       "earliest_cr_line             524\n",
       "loan_amnt                    870\n",
       "funded_amnt                 1019\n",
       "revol_util                  1088\n",
       "total_rec_late_fee          1320\n",
       "collection_recovery_fee     2616\n",
       "dti                         2853\n",
       "recoveries                  4040\n",
       "annual_inc                  5215\n",
       "total_rec_prncp             6841\n",
       "funded_amnt_inv             8050\n",
       "installment                15022\n",
       "revol_bal                  21275\n",
       "total_rec_int              34025\n",
       "last_pymnt_amnt            34418\n",
       "total_pymnt_inv            36387\n",
       "total_pymnt                36714\n",
       "dtype: int64"
      ]
     },
     "execution_count": 20,
     "metadata": {},
     "output_type": "execute_result"
    }
   ],
   "source": [
    "loan.nunique().sort_values()"
   ]
  },
  {
   "cell_type": "markdown",
   "id": "642e53de",
   "metadata": {},
   "source": [
    "## Derived Metrics\n",
    "Currently the dataset has two datetime columns, we need to extract month and year from these columns to gain more insights"
   ]
  },
  {
   "cell_type": "code",
   "execution_count": 21,
   "id": "d0312641",
   "metadata": {},
   "outputs": [],
   "source": [
    "# D. Conversion of \"issue_d\" and \"earliest_cr_line\" from object to datatime\n",
    "\n",
    "loan['issue_d'] =  pd.to_datetime(loan['issue_d'], format='%b-%y')\n",
    "loan['earliest_cr_line'] =  pd.to_datetime(loan['earliest_cr_line'], format='%b-%y')"
   ]
  },
  {
   "cell_type": "code",
   "execution_count": 22,
   "id": "c0b926e4",
   "metadata": {},
   "outputs": [],
   "source": [
    "# A. Creating \"issue_year\" and \"issue_month\" from \"issue_d\" columnm \n",
    "\n",
    "loan[\"issue_year\"] = pd.DatetimeIndex(loan[\"issue_d\"]).year\n",
    "loan[\"issue_month\"] = pd.DatetimeIndex(loan[\"issue_d\"]).month\n",
    "\n",
    "# B. Dropping the \"issue_d\" column\n",
    "loan.drop(columns=[\"issue_d\"], inplace=True)"
   ]
  },
  {
   "cell_type": "code",
   "execution_count": 23,
   "id": "78c0bcdb",
   "metadata": {},
   "outputs": [],
   "source": [
    "# C. Creating \"earliest_cr_line_y\" and \"earliest_cr_line_m\" from \"earliest_cr_line\" columnm \n",
    "\n",
    "loan[\"earliest_cr_line_y\"] = pd.DatetimeIndex(loan[\"earliest_cr_line\"]).year\n",
    "loan[\"earliest_cr_line_m\"] = pd.DatetimeIndex(loan[\"earliest_cr_line\"]).month\n",
    "\n",
    "\n",
    "# D. Dropping the \"earliest_cr_line\" column\n",
    "loan.drop(columns=[\"earliest_cr_line\"], inplace=True)"
   ]
  },
  {
   "cell_type": "markdown",
   "id": "0e87bcc3",
   "metadata": {},
   "source": [
    "## <span style='color:indigo'> As data has been cleaned and formatted, so it is ready to be analyzed now"
   ]
  },
  {
   "cell_type": "code",
   "execution_count": 24,
   "id": "83bec5b9",
   "metadata": {},
   "outputs": [
    {
     "name": "stdout",
     "output_type": "stream",
     "text": [
      "Total number of defaulters:  5627\n",
      "\n",
      "Total number of fully-paid customers:  32950\n",
      "\n",
      "Percentage of defaulters:  15\n"
     ]
    }
   ],
   "source": [
    "# Segmenting the data into defaulters and fully-paid customers for more insights\n",
    "\n",
    "df_defaulters = loan[(loan[\"loan_status\"] == \"Charged Off\")]\n",
    "df_fullypaid = loan[(loan[\"loan_status\"] == \"Fully Paid\")]\n",
    "\n",
    "print(\"Total number of defaulters: \", len(df_defaulters))\n",
    "print(\"\\nTotal number of fully-paid customers: \", len(df_fullypaid))\n",
    "print(\"\\nPercentage of defaulters: \", round(len(df_defaulters)/len(loan)*100))"
   ]
  },
  {
   "cell_type": "markdown",
   "id": "fae9b73d",
   "metadata": {},
   "source": [
    "## Data Analysis"
   ]
  },
  {
   "cell_type": "markdown",
   "id": "3fe6758e",
   "metadata": {},
   "source": [
    "### 1. Analyzing the purpose of loan taken by customers"
   ]
  },
  {
   "cell_type": "code",
   "execution_count": 25,
   "id": "2290954f",
   "metadata": {},
   "outputs": [
    {
     "data": {
      "image/png": "[encoded data removed]",
      "text/plain": [
       "<Figure size 1152x576 with 1 Axes>"
      ]
     },
     "metadata": {
      "needs_background": "light"
     },
     "output_type": "display_data"
    }
   ],
   "source": [
    "fig, ax = plt.subplots(figsize=(16,8))\n",
    "\n",
    "# Setting log scale to make plot readable\n",
    "ax.set(yscale = 'log')\n",
    "\n",
    "sns.countplot(data=loan, x=\"purpose\", hue=\"loan_status\")\n",
    "ax.set_title(\"Loan Purpose Distribution\", fontsize=18)\n",
    "ax.set_xlabel(xlabel=\"Purpose\")\n",
    "ax.set_ylabel(\"Count\", fontsize=12)\n",
    "ax.set_xticklabels(ax.get_xticklabels(), rotation=45)\n",
    "\n",
    "plt.show()"
   ]
  },
  {
   "cell_type": "code",
   "execution_count": 26,
   "id": "43e98540",
   "metadata": {},
   "outputs": [
    {
     "data": {
      "text/html": [
       "<div>\n",
       "<style scoped>\n",
       "    .dataframe tbody tr th:only-of-type {\n",
       "        vertical-align: middle;\n",
       "    }\n",
       "\n",
       "    .dataframe tbody tr th {\n",
       "        vertical-align: top;\n",
       "    }\n",
       "\n",
       "    .dataframe thead th {\n",
       "        text-align: right;\n",
       "    }\n",
       "</style>\n",
       "<table border=\"1\" class=\"dataframe\">\n",
       "  <thead>\n",
       "    <tr style=\"text-align: right;\">\n",
       "      <th>loan_status</th>\n",
       "      <th>Charged Off</th>\n",
       "      <th>Fully Paid</th>\n",
       "    </tr>\n",
       "    <tr>\n",
       "      <th>purpose</th>\n",
       "      <th></th>\n",
       "      <th></th>\n",
       "    </tr>\n",
       "  </thead>\n",
       "  <tbody>\n",
       "    <tr>\n",
       "      <th>car</th>\n",
       "      <td>2.84</td>\n",
       "      <td>4.06</td>\n",
       "    </tr>\n",
       "    <tr>\n",
       "      <th>credit_card</th>\n",
       "      <td>9.63</td>\n",
       "      <td>13.61</td>\n",
       "    </tr>\n",
       "    <tr>\n",
       "      <th>debt_consolidation</th>\n",
       "      <td>49.17</td>\n",
       "      <td>46.40</td>\n",
       "    </tr>\n",
       "    <tr>\n",
       "      <th>educational</th>\n",
       "      <td>1.00</td>\n",
       "      <td>0.82</td>\n",
       "    </tr>\n",
       "    <tr>\n",
       "      <th>home_improvement</th>\n",
       "      <td>6.17</td>\n",
       "      <td>7.67</td>\n",
       "    </tr>\n",
       "    <tr>\n",
       "      <th>house</th>\n",
       "      <td>1.05</td>\n",
       "      <td>0.93</td>\n",
       "    </tr>\n",
       "    <tr>\n",
       "      <th>major_purchase</th>\n",
       "      <td>3.95</td>\n",
       "      <td>5.85</td>\n",
       "    </tr>\n",
       "    <tr>\n",
       "      <th>medical</th>\n",
       "      <td>1.88</td>\n",
       "      <td>1.75</td>\n",
       "    </tr>\n",
       "    <tr>\n",
       "      <th>moving</th>\n",
       "      <td>1.63</td>\n",
       "      <td>1.47</td>\n",
       "    </tr>\n",
       "    <tr>\n",
       "      <th>other</th>\n",
       "      <td>11.25</td>\n",
       "      <td>9.81</td>\n",
       "    </tr>\n",
       "    <tr>\n",
       "      <th>renewable_energy</th>\n",
       "      <td>0.34</td>\n",
       "      <td>0.25</td>\n",
       "    </tr>\n",
       "    <tr>\n",
       "      <th>small_business</th>\n",
       "      <td>8.44</td>\n",
       "      <td>3.88</td>\n",
       "    </tr>\n",
       "    <tr>\n",
       "      <th>vacation</th>\n",
       "      <td>0.94</td>\n",
       "      <td>0.98</td>\n",
       "    </tr>\n",
       "    <tr>\n",
       "      <th>wedding</th>\n",
       "      <td>1.71</td>\n",
       "      <td>2.52</td>\n",
       "    </tr>\n",
       "  </tbody>\n",
       "</table>\n",
       "</div>"
      ],
      "text/plain": [
       "loan_status         Charged Off  Fully Paid\n",
       "purpose                                    \n",
       "car                        2.84        4.06\n",
       "credit_card                9.63       13.61\n",
       "debt_consolidation        49.17       46.40\n",
       "educational                1.00        0.82\n",
       "home_improvement           6.17        7.67\n",
       "house                      1.05        0.93\n",
       "major_purchase             3.95        5.85\n",
       "medical                    1.88        1.75\n",
       "moving                     1.63        1.47\n",
       "other                     11.25        9.81\n",
       "renewable_energy           0.34        0.25\n",
       "small_business             8.44        3.88\n",
       "vacation                   0.94        0.98\n",
       "wedding                    1.71        2.52"
      ]
     },
     "execution_count": 26,
     "metadata": {},
     "output_type": "execute_result"
    }
   ],
   "source": [
    "# A comparison of the purpose of loan taken by Defaulters vs Fully-Paid Customers (Percentage)\n",
    "\n",
    "\n",
    "(round(pd.crosstab(loan[\"purpose\"], loan[\"loan_status\"], normalize='columns') * 100,2))"
   ]
  },
  {
   "cell_type": "markdown",
   "id": "e41af9f2",
   "metadata": {},
   "source": [
    "### <span style='color:green'> Observation<br>\n",
    "Top 3 reasons to borrow loans by customers who have defaulted:<br>\n",
    "    1 - Debt Consolidation - 49%<br>\n",
    "    2 - Other - 11%<br>\n",
    "    3 - Credit Card - 10%\n"
   ]
  },
  {
   "cell_type": "markdown",
   "id": "c8a34719",
   "metadata": {},
   "source": [
    "### 2. Analyzing the home ownership of customers"
   ]
  },
  {
   "cell_type": "code",
   "execution_count": 27,
   "id": "41d838c0",
   "metadata": {
    "scrolled": false
   },
   "outputs": [
    {
     "data": {
      "image/png": "[encoded data removed]",
      "text/plain": [
       "<Figure size 720x576 with 1 Axes>"
      ]
     },
     "metadata": {
      "needs_background": "light"
     },
     "output_type": "display_data"
    }
   ],
   "source": [
    "fig, ax = plt.subplots(figsize=(10,8))\n",
    "\n",
    "# Setting log scale to make plot readable\n",
    "ax.set(yscale = 'log')\n",
    "\n",
    "sns.countplot(data=loan, x=\"home_ownership\", hue=\"loan_status\")\n",
    "ax.set_title(\"Home Ownership Distribution of Customers\", fontsize=18)\n",
    "ax.set_xlabel(xlabel=\"Ownership Type\")\n",
    "ax.set_ylabel(\"Count\", fontsize=12)\n",
    "ax.set_xticklabels(ax.get_xticklabels())\n",
    "\n",
    "plt.show()"
   ]
  },
  {
   "cell_type": "code",
   "execution_count": 28,
   "id": "a3c5034d",
   "metadata": {},
   "outputs": [
    {
     "data": {
      "text/html": [
       "<div>\n",
       "<style scoped>\n",
       "    .dataframe tbody tr th:only-of-type {\n",
       "        vertical-align: middle;\n",
       "    }\n",
       "\n",
       "    .dataframe tbody tr th {\n",
       "        vertical-align: top;\n",
       "    }\n",
       "\n",
       "    .dataframe thead th {\n",
       "        text-align: right;\n",
       "    }\n",
       "</style>\n",
       "<table border=\"1\" class=\"dataframe\">\n",
       "  <thead>\n",
       "    <tr style=\"text-align: right;\">\n",
       "      <th>home_ownership</th>\n",
       "      <th>MORTGAGE</th>\n",
       "      <th>NONE</th>\n",
       "      <th>OTHER</th>\n",
       "      <th>OWN</th>\n",
       "      <th>RENT</th>\n",
       "    </tr>\n",
       "    <tr>\n",
       "      <th>loan_status</th>\n",
       "      <th></th>\n",
       "      <th></th>\n",
       "      <th></th>\n",
       "      <th></th>\n",
       "      <th></th>\n",
       "    </tr>\n",
       "  </thead>\n",
       "  <tbody>\n",
       "    <tr>\n",
       "      <th>Charged Off</th>\n",
       "      <td>41.35</td>\n",
       "      <td>0.00</td>\n",
       "      <td>0.32</td>\n",
       "      <td>7.87</td>\n",
       "      <td>50.45</td>\n",
       "    </tr>\n",
       "    <tr>\n",
       "      <th>Fully Paid</th>\n",
       "      <td>44.59</td>\n",
       "      <td>0.01</td>\n",
       "      <td>0.24</td>\n",
       "      <td>7.68</td>\n",
       "      <td>47.47</td>\n",
       "    </tr>\n",
       "  </tbody>\n",
       "</table>\n",
       "</div>"
      ],
      "text/plain": [
       "home_ownership  MORTGAGE  NONE  OTHER   OWN   RENT\n",
       "loan_status                                       \n",
       "Charged Off        41.35  0.00   0.32  7.87  50.45\n",
       "Fully Paid         44.59  0.01   0.24  7.68  47.47"
      ]
     },
     "execution_count": 28,
     "metadata": {},
     "output_type": "execute_result"
    }
   ],
   "source": [
    "# A comparison of homeownership of Defaulters vs Fully-Paid Customers (Percentage)\n",
    "\n",
    "\n",
    "(round(pd.crosstab(loan[\"home_ownership\"], loan[\"loan_status\"], normalize='columns') * 100,2)).T"
   ]
  },
  {
   "cell_type": "markdown",
   "id": "d04caf67",
   "metadata": {},
   "source": [
    "### <span style='color:green'> Observation<br>\n",
    "House ownership of the customers who have defaulted:<br>\n",
    "    1 - Rent - 50%<br>\n",
    "    2 - Mortgage - 41%<br>"
   ]
  },
  {
   "cell_type": "markdown",
   "id": "a38834f7",
   "metadata": {},
   "source": [
    "### 3. Analyzing the employment length of customers"
   ]
  },
  {
   "cell_type": "code",
   "execution_count": 29,
   "id": "032e5ea4",
   "metadata": {},
   "outputs": [
    {
     "data": {
      "image/png": "[encoded data removed]",
      "text/plain": [
       "<Figure size 1152x576 with 1 Axes>"
      ]
     },
     "metadata": {
      "needs_background": "light"
     },
     "output_type": "display_data"
    }
   ],
   "source": [
    "fig, ax = plt.subplots(figsize=(16,8))\n",
    "\n",
    "sns.countplot(data =loan, x=\"emp_length\", hue =\"loan_status\", order=['< 1 year', '1 year','2 years','3 years', '4 years','5 years', '6 years','7 years', '8 years','9 years', '10+ years'])\n",
    "\n",
    "ax.set_title(\"Distribution of Customers as per Employment Length\", fontsize=18)\n",
    "ax.set_xlabel(xlabel=\"Employment Length\")\n",
    "ax.set_ylabel(\"Count\", fontsize=12)\n",
    "ax.set_xticklabels(ax.get_xticklabels())\n",
    "\n",
    "plt.show()"
   ]
  },
  {
   "cell_type": "code",
   "execution_count": 30,
   "id": "ca737135",
   "metadata": {
    "scrolled": true
   },
   "outputs": [
    {
     "data": {
      "text/html": [
       "<div>\n",
       "<style scoped>\n",
       "    .dataframe tbody tr th:only-of-type {\n",
       "        vertical-align: middle;\n",
       "    }\n",
       "\n",
       "    .dataframe tbody tr th {\n",
       "        vertical-align: top;\n",
       "    }\n",
       "\n",
       "    .dataframe thead th {\n",
       "        text-align: right;\n",
       "    }\n",
       "</style>\n",
       "<table border=\"1\" class=\"dataframe\">\n",
       "  <thead>\n",
       "    <tr style=\"text-align: right;\">\n",
       "      <th>emp_length</th>\n",
       "      <th>1 year</th>\n",
       "      <th>10+ years</th>\n",
       "      <th>2 years</th>\n",
       "      <th>3 years</th>\n",
       "      <th>4 years</th>\n",
       "      <th>5 years</th>\n",
       "      <th>6 years</th>\n",
       "      <th>7 years</th>\n",
       "      <th>8 years</th>\n",
       "      <th>9 years</th>\n",
       "      <th>&lt; 1 year</th>\n",
       "    </tr>\n",
       "    <tr>\n",
       "      <th>loan_status</th>\n",
       "      <th></th>\n",
       "      <th></th>\n",
       "      <th></th>\n",
       "      <th></th>\n",
       "      <th></th>\n",
       "      <th></th>\n",
       "      <th></th>\n",
       "      <th></th>\n",
       "      <th></th>\n",
       "      <th></th>\n",
       "      <th></th>\n",
       "    </tr>\n",
       "  </thead>\n",
       "  <tbody>\n",
       "    <tr>\n",
       "      <th>Charged Off</th>\n",
       "      <td>8.45</td>\n",
       "      <td>24.65</td>\n",
       "      <td>10.50</td>\n",
       "      <td>10.28</td>\n",
       "      <td>8.56</td>\n",
       "      <td>8.48</td>\n",
       "      <td>5.69</td>\n",
       "      <td>4.87</td>\n",
       "      <td>3.76</td>\n",
       "      <td>2.93</td>\n",
       "      <td>11.84</td>\n",
       "    </tr>\n",
       "    <tr>\n",
       "      <th>Fully Paid</th>\n",
       "      <td>8.44</td>\n",
       "      <td>22.26</td>\n",
       "      <td>11.59</td>\n",
       "      <td>10.75</td>\n",
       "      <td>8.96</td>\n",
       "      <td>8.51</td>\n",
       "      <td>5.79</td>\n",
       "      <td>4.50</td>\n",
       "      <td>3.83</td>\n",
       "      <td>3.32</td>\n",
       "      <td>12.04</td>\n",
       "    </tr>\n",
       "  </tbody>\n",
       "</table>\n",
       "</div>"
      ],
      "text/plain": [
       "emp_length   1 year  10+ years  2 years  3 years  4 years  5 years  6 years  \\\n",
       "loan_status                                                                   \n",
       "Charged Off    8.45      24.65    10.50    10.28     8.56     8.48     5.69   \n",
       "Fully Paid     8.44      22.26    11.59    10.75     8.96     8.51     5.79   \n",
       "\n",
       "emp_length   7 years  8 years  9 years  < 1 year  \n",
       "loan_status                                       \n",
       "Charged Off     4.87     3.76     2.93     11.84  \n",
       "Fully Paid      4.50     3.83     3.32     12.04  "
      ]
     },
     "execution_count": 30,
     "metadata": {},
     "output_type": "execute_result"
    }
   ],
   "source": [
    "# A comparison of employment length of Defaulters vs Fully-Paid Customers (Percentage)\n",
    "\n",
    "\n",
    "(round(pd.crosstab(loan[\"emp_length\"], loan[\"loan_status\"], normalize='columns') * 100,2)).T"
   ]
  },
  {
   "cell_type": "markdown",
   "id": "f22c1fc3",
   "metadata": {},
   "source": [
    "### <span style='color:green'> Observation<br>\n",
    "Percent-wise top 3 employment duration of the customers who have defaulted:<br>\n",
    "    1 - More than 10 years of experience - 25%<br>\n",
    "    2 - Less than 1 year of experience - 12%<br>\n",
    "    3 - 2 Years and 3 years of experience - 10%"
   ]
  },
  {
   "cell_type": "markdown",
   "id": "e82fe31a",
   "metadata": {},
   "source": [
    "### 4. Analyzing the grades assigned to Customers"
   ]
  },
  {
   "cell_type": "code",
   "execution_count": 31,
   "id": "3d5760ba",
   "metadata": {},
   "outputs": [
    {
     "data": {
      "image/png": "[encoded data removed]",
      "text/plain": [
       "<Figure size 1152x576 with 1 Axes>"
      ]
     },
     "metadata": {
      "needs_background": "light"
     },
     "output_type": "display_data"
    }
   ],
   "source": [
    "fig, ax = plt.subplots(figsize=(16,8))\n",
    "\n",
    "sns.barplot(data =loan, x=\"grade\", y=\"loan_amnt\", hue =\"loan_status\", order=sorted(loan[\"grade\"].unique()))\n",
    "\n",
    "ax.set_title(\"Loan Amount Given to Different Grades\", fontsize=18)\n",
    "ax.set_xlabel(xlabel=\"Grade\")\n",
    "ax.set_ylabel(\"Loan Amount\", fontsize=12)\n",
    "ax.set_xticklabels(ax.get_xticklabels())\n",
    "\n",
    "plt.show()"
   ]
  },
  {
   "cell_type": "code",
   "execution_count": 32,
   "id": "c318db9f",
   "metadata": {},
   "outputs": [
    {
     "data": {
      "text/html": [
       "<div>\n",
       "<style scoped>\n",
       "    .dataframe tbody tr th:only-of-type {\n",
       "        vertical-align: middle;\n",
       "    }\n",
       "\n",
       "    .dataframe tbody tr th {\n",
       "        vertical-align: top;\n",
       "    }\n",
       "\n",
       "    .dataframe thead th {\n",
       "        text-align: right;\n",
       "    }\n",
       "</style>\n",
       "<table border=\"1\" class=\"dataframe\">\n",
       "  <thead>\n",
       "    <tr style=\"text-align: right;\">\n",
       "      <th>grade</th>\n",
       "      <th>A</th>\n",
       "      <th>B</th>\n",
       "      <th>C</th>\n",
       "      <th>D</th>\n",
       "      <th>E</th>\n",
       "      <th>F</th>\n",
       "      <th>G</th>\n",
       "    </tr>\n",
       "    <tr>\n",
       "      <th>loan_status</th>\n",
       "      <th></th>\n",
       "      <th></th>\n",
       "      <th></th>\n",
       "      <th></th>\n",
       "      <th></th>\n",
       "      <th></th>\n",
       "      <th></th>\n",
       "    </tr>\n",
       "  </thead>\n",
       "  <tbody>\n",
       "    <tr>\n",
       "      <th>Charged Off</th>\n",
       "      <td>10.70</td>\n",
       "      <td>25.32</td>\n",
       "      <td>23.94</td>\n",
       "      <td>19.87</td>\n",
       "      <td>12.71</td>\n",
       "      <td>5.67</td>\n",
       "      <td>1.79</td>\n",
       "    </tr>\n",
       "    <tr>\n",
       "      <th>Fully Paid</th>\n",
       "      <td>28.66</td>\n",
       "      <td>31.11</td>\n",
       "      <td>19.69</td>\n",
       "      <td>12.04</td>\n",
       "      <td>5.91</td>\n",
       "      <td>1.99</td>\n",
       "      <td>0.60</td>\n",
       "    </tr>\n",
       "  </tbody>\n",
       "</table>\n",
       "</div>"
      ],
      "text/plain": [
       "grade            A      B      C      D      E     F     G\n",
       "loan_status                                               \n",
       "Charged Off  10.70  25.32  23.94  19.87  12.71  5.67  1.79\n",
       "Fully Paid   28.66  31.11  19.69  12.04   5.91  1.99  0.60"
      ]
     },
     "execution_count": 32,
     "metadata": {},
     "output_type": "execute_result"
    }
   ],
   "source": [
    "# A comparison of homeownership of Defaulters vs Fully-Paid Customers\n",
    "\n",
    "\n",
    "round(pd.crosstab(loan[\"grade\"], loan[\"loan_status\"], normalize=\"columns\")*100,2).T"
   ]
  },
  {
   "cell_type": "markdown",
   "id": "f858c248",
   "metadata": {},
   "source": [
    "### <span style='color:green'> Observation<br>\n",
    "Percent-wise top 3 grades of the customers who have defaulted:<br>\n",
    "    1 - Grade B - 25%<br>\n",
    "    2 - Grade C - 24%<br>\n",
    "    3 - Grade D - 20%"
   ]
  },
  {
   "cell_type": "markdown",
   "id": "5e16817c",
   "metadata": {},
   "source": [
    "### 5. Analyzing the amount of loan given to customers"
   ]
  },
  {
   "cell_type": "code",
   "execution_count": 33,
   "id": "5f8bb6ca",
   "metadata": {},
   "outputs": [
    {
     "data": {
      "image/png": "[encoded data removed]",
      "text/plain": [
       "<Figure size 1152x576 with 1 Axes>"
      ]
     },
     "metadata": {
      "needs_background": "light"
     },
     "output_type": "display_data"
    }
   ],
   "source": [
    "fig, ax = plt.subplots(figsize=(16,8))\n",
    "\n",
    "\n",
    "sns.histplot(loan[\"loan_amnt\"], bins=15)\n",
    "ax.set_title(\"Loan Amount Given to Customers\", fontsize=18)\n",
    "ax.set_xlabel(xlabel=\"Loan Amount\")\n",
    "ax.set_ylabel(\"Frequency\", fontsize=12)\n",
    "\n",
    "plt.show()"
   ]
  },
  {
   "cell_type": "markdown",
   "id": "7e4b1bb3",
   "metadata": {},
   "source": [
    "### 5A. Analyzing the amount of loan given to customers who have defaulted"
   ]
  },
  {
   "cell_type": "code",
   "execution_count": 34,
   "id": "1c0800d6",
   "metadata": {},
   "outputs": [
    {
     "data": {
      "image/png": "[encoded data removed]",
      "text/plain": [
       "<Figure size 1152x576 with 1 Axes>"
      ]
     },
     "metadata": {
      "needs_background": "light"
     },
     "output_type": "display_data"
    }
   ],
   "source": [
    "fig, ax = plt.subplots(figsize=(16,8))\n",
    "\n",
    "\n",
    "sns.histplot(df_defaulters[\"loan_amnt\"], bins=15, color=\"orange\")\n",
    "ax.set_title(\"Loan Amount Given to Defaulters\", fontsize=18)\n",
    "ax.set_xlabel(xlabel=\"Loan Amount\")\n",
    "ax.set_ylabel(\"Frequency\", fontsize=12)\n",
    "\n",
    "plt.show()"
   ]
  },
  {
   "cell_type": "code",
   "execution_count": 35,
   "id": "313e2cc7",
   "metadata": {},
   "outputs": [
    {
     "name": "stdout",
     "output_type": "stream",
     "text": [
      "1. Total loan given:  426161100\n",
      "2. Loan given to fully-paid customers:  358049725\n",
      "3. Defaulters:  68111375\n"
     ]
    }
   ],
   "source": [
    "# Amount of loan given:\n",
    "\n",
    "print(\"1. Total loan given: \",loan[\"loan_amnt\"].sum())\n",
    "print(\"2. Loan given to fully-paid customers: \",df_fullypaid[\"loan_amnt\"].sum())\n",
    "print(\"3. Defaulters: \",df_defaulters[\"loan_amnt\"].sum())"
   ]
  },
  {
   "cell_type": "markdown",
   "id": "168fb7f8",
   "metadata": {},
   "source": [
    "### <span style='color:green'> Observation<br>\n",
    "Total amount of loan given = 426.1 Million <br>\n",
    "Total amount of loan given to customers who have defaulted = 68.1 Million <br>\n",
    "Percentage of loan given to defaulters = 16%\n"
   ]
  },
  {
   "cell_type": "markdown",
   "id": "a29a38d2",
   "metadata": {},
   "source": [
    "### 6. Analyzing the verification status of customers"
   ]
  },
  {
   "cell_type": "code",
   "execution_count": 36,
   "id": "4f72acb4",
   "metadata": {},
   "outputs": [
    {
     "data": {
      "image/png": "[encoded data removed]",
      "text/plain": [
       "<Figure size 864x576 with 1 Axes>"
      ]
     },
     "metadata": {
      "needs_background": "light"
     },
     "output_type": "display_data"
    }
   ],
   "source": [
    "fig, ax = plt.subplots(figsize=(12,8))\n",
    "\n",
    "sns.barplot(data =loan, x=\"verification_status\", y=\"loan_amnt\", hue =\"loan_status\")\n",
    "\n",
    "ax.set_title(\"Verification Status & Loan Amount\", fontsize=18)\n",
    "ax.set_xlabel(xlabel=\"Status\")\n",
    "ax.set_ylabel(\"Loan Amount\", fontsize=12)\n",
    "ax.set_xticklabels(ax.get_xticklabels())\n",
    "\n",
    "plt.show()"
   ]
  },
  {
   "cell_type": "code",
   "execution_count": 37,
   "id": "fb89ff24",
   "metadata": {
    "scrolled": true
   },
   "outputs": [
    {
     "name": "stdout",
     "output_type": "stream",
     "text": [
      "Total number of defaulters  :  5627\n",
      "\n",
      "Total unverified defaulters :  2142\n",
      "\n",
      "Percentage of unverified defaulters :  38\n"
     ]
    }
   ],
   "source": [
    "# Stats of defaulters as per verification status\n",
    "\n",
    "\n",
    "total_defaulters = len(df_defaulters)\n",
    "total_unverified_defaulters = len(df_defaulters[(df_defaulters[\"verification_status\"] == \"Not Verified\")])\n",
    "\n",
    "print(\"Total number of defaulters  : \", total_defaulters)\n",
    "print(\"\\nTotal unverified defaulters : \", total_unverified_defaulters)\n",
    "print(\"\\nPercentage of unverified defaulters : \", round(total_unverified_defaulters/total_defaulters*100))"
   ]
  },
  {
   "cell_type": "markdown",
   "id": "33403a70",
   "metadata": {},
   "source": [
    "### <span style='color:green'> Observation<br>\n",
    "The percentage of unverified defaulters is 38%, which is quite high."
   ]
  },
  {
   "cell_type": "markdown",
   "id": "c689def9",
   "metadata": {},
   "source": [
    "### 7. Analyzing the Interest Rate Charged to Different Grade Customers"
   ]
  },
  {
   "cell_type": "code",
   "execution_count": 38,
   "id": "9aca3e7a",
   "metadata": {},
   "outputs": [
    {
     "data": {
      "image/png": "[encoded data removed]",
      "text/plain": [
       "<Figure size 1152x576 with 1 Axes>"
      ]
     },
     "metadata": {
      "needs_background": "light"
     },
     "output_type": "display_data"
    }
   ],
   "source": [
    "fig, ax = plt.subplots(figsize=(16,8))\n",
    "\n",
    "sns.barplot(data=loan, x=\"grade\", y=\"int_rate\", hue =\"loan_status\", order=sorted(loan[\"grade\"].unique()))\n",
    "\n",
    "ax.set_title(\"Interest Rate for Each Grade\", fontsize=18)\n",
    "ax.set_xlabel(xlabel=\"Grade\")\n",
    "ax.set_ylabel(\"Intereset Rate\", fontsize=12)\n",
    "ax.set_xticklabels(ax.get_xticklabels())\n",
    "\n",
    "plt.show()"
   ]
  },
  {
   "cell_type": "markdown",
   "id": "f8a12f16",
   "metadata": {},
   "source": [
    "### 8. Analyzing the defaulters who have borrowed loan for debt consolidation"
   ]
  },
  {
   "cell_type": "code",
   "execution_count": 39,
   "id": "477c77c8",
   "metadata": {},
   "outputs": [],
   "source": [
    "# Creating dataframe for defaulters who have borrowed loan for debt consolidation\n",
    "loan_for_debt = df_defaulters[(df_defaulters[\"purpose\"] == \"debt_consolidation\")]"
   ]
  },
  {
   "cell_type": "code",
   "execution_count": 40,
   "id": "c41fdf27",
   "metadata": {
    "scrolled": false
   },
   "outputs": [
    {
     "data": {
      "image/png": "[encoded data removed]",
      "text/plain": [
       "<Figure size 1152x576 with 1 Axes>"
      ]
     },
     "metadata": {
      "needs_background": "light"
     },
     "output_type": "display_data"
    }
   ],
   "source": [
    "fig, ax = plt.subplots(figsize=(16,8))\n",
    "\n",
    "sns.countplot(data =loan_for_debt, x=\"emp_length\", hue=\"verification_status\", order=['< 1 year', '1 year','2 years','3 years', '4 years','5 years', '6 years','7 years', '8 years','9 years', '10+ years'])\n",
    "\n",
    "ax.set_title(\"Defaulters Who Borrowed Loan For Debt Consolidation\", fontsize=18)\n",
    "ax.set_xlabel(xlabel=\"Employment Length\")\n",
    "ax.set_ylabel(\"Count\", fontsize=12)\n",
    "ax.set_xticklabels(ax.get_xticklabels())\n",
    "\n",
    "plt.show()"
   ]
  },
  {
   "cell_type": "markdown",
   "id": "de9fb369",
   "metadata": {},
   "source": [
    "### Note:\n",
    "Since, the defaulters who have taken loan for debt consolidation is significantly higher, we need to further investigate for such defaulters."
   ]
  },
  {
   "cell_type": "markdown",
   "id": "d2befd81",
   "metadata": {},
   "source": [
    "### 9. Analyzing the verification status of defaulters who have borrowed loan for debt consolidation and have more than 10 years of experience"
   ]
  },
  {
   "cell_type": "code",
   "execution_count": 41,
   "id": "d59b182e",
   "metadata": {},
   "outputs": [
    {
     "data": {
      "image/png": "[encoded data removed]",
      "text/plain": [
       "<Figure size 1152x576 with 1 Axes>"
      ]
     },
     "metadata": {
      "needs_background": "light"
     },
     "output_type": "display_data"
    }
   ],
   "source": [
    "# Analyzing the loan taken by defaulters for debt consolidation who have more than 10 years of experience\n",
    "\n",
    "loan_for_debt_10years = loan_for_debt[(loan_for_debt[\"emp_length\"] == \"10+ years\")]\n",
    "\n",
    "\n",
    "fig, ax = plt.subplots(figsize=(16,8))\n",
    "\n",
    "sns.countplot(data =loan_for_debt, x=\"grade\", hue=\"verification_status\", order=sorted(loan[\"grade\"].unique()))\n",
    "\n",
    "ax.set_title(\"Defaulters Who Borrowed Loan For Debt Consolidation\", fontsize=18)\n",
    "ax.set_xlabel(xlabel=\"Grade\")\n",
    "ax.set_ylabel(\"Count\", fontsize=12)\n",
    "ax.set_xticklabels(ax.get_xticklabels())\n",
    "\n",
    "plt.show()"
   ]
  },
  {
   "cell_type": "markdown",
   "id": "07021acf",
   "metadata": {},
   "source": [
    "### <span style='color:blue'> Summary<br>\n",
    "*Lending Club should consider following points and exercise caution while approving loans:*\n",
    "\n",
    "1. Out of all the defaulters, the percentage of those who borrowed loan for debt consolidation is **49%**, which is at least **4 times more** than that of any other purposes <br>\n",
    "2. Among all the defaulters, those who have **0 to 3 years** of experience and **more than 10 years** of experience combinedly contribute to become **47%** of the defaulters. <br>\n",
    "3. As the grades move from A to G, the amount of loan gradually increases; and the defaulters falling under grade B, C, and D combinedly become **69%** of the defaulters.<br>\n",
    "4. Even the verified customers who were given the loan amount exceeding **15,000** have defaulted. Such verified defaulters are in excess of **60%** of all the defaulters.<br>\n",
    "5. Number of verified defaulters, who have more than 10 years of experience and who have taken loan for debt consolidation, is at least **three times more** than any other employment length.<br>"
   ]
  }
 ],
 "metadata": {
  "kernelspec": {
   "display_name": "Python 3 (ipykernel)",
   "language": "python",
   "name": "python3"
  },
  "language_info": {
   "codemirror_mode": {
    "name": "ipython",
    "version": 3
   },
   "file_extension": ".py",
   "mimetype": "text/x-python",
   "name": "python",
   "nbconvert_exporter": "python",
   "pygments_lexer": "ipython3",
   "version": "3.9.7"
  }
 },
 "nbformat": 4,
 "nbformat_minor": 5
}
